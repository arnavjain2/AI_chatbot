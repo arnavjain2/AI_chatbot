{
  "nbformat": 4,
  "nbformat_minor": 0,
  "metadata": {
    "colab": {
      "provenance": [],
      "authorship_tag": "ABX9TyNdqIo5SaR+f2EL0mVTXefO",
      "include_colab_link": true
    },
    "kernelspec": {
      "name": "python3",
      "display_name": "Python 3"
    },
    "language_info": {
      "name": "python"
    }
  },
  "cells": [
    {
      "cell_type": "markdown",
      "metadata": {
        "id": "view-in-github",
        "colab_type": "text"
      },
      "source": [
        "<a href=\"https://colab.research.google.com/github/arnavjain2/AI_chatbot/blob/main/AI_chatbot.ipynb\" target=\"_parent\"><img src=\"https://colab.research.google.com/assets/colab-badge.svg\" alt=\"Open In Colab\"/></a>"
      ]
    },
    {
      "cell_type": "code",
      "source": [
        "pip install openai"
      ],
      "metadata": {
        "id": "29xzHwsJa3gT"
      },
      "execution_count": null,
      "outputs": []
    },
    {
      "cell_type": "code",
      "source": [
        "!pip install python-dotenv"
      ],
      "metadata": {
        "id": "CGLcbx1JawQ5",
        "colab": {
          "base_uri": "https://localhost:8080/"
        },
        "outputId": "3fa2e827-01a0-4048-d03e-84f09380965a"
      },
      "execution_count": 11,
      "outputs": [
        {
          "output_type": "stream",
          "name": "stdout",
          "text": [
            "Requirement already satisfied: python-dotenv in /usr/local/lib/python3.10/dist-packages (1.0.0)\n"
          ]
        }
      ]
    },
    {
      "cell_type": "code",
      "source": [
        "!ls -l arnav.env"
      ],
      "metadata": {
        "colab": {
          "base_uri": "https://localhost:8080/"
        },
        "id": "6knGgfXaLjBE",
        "outputId": "35fcc27c-06bb-4307-a5cc-9f5f8855f548"
      },
      "execution_count": 12,
      "outputs": [
        {
          "output_type": "stream",
          "name": "stdout",
          "text": [
            "ls: cannot access 'arnav.env': No such file or directory\n"
          ]
        }
      ]
    },
    {
      "cell_type": "code",
      "execution_count": 3,
      "metadata": {
        "id": "TKEFTR0Haq19"
      },
      "outputs": [],
      "source": [
        "import openai\n",
        "from dotenv import dotenv_values"
      ]
    },
    {
      "cell_type": "code",
      "source": [
        "config = dotenv_values(\"arnav.env\")\n",
        "openai.api_key = config[\"api_key\"]"
      ],
      "metadata": {
        "id": "klTDXvKIatQr"
      },
      "execution_count": null,
      "outputs": []
    },
    {
      "cell_type": "code",
      "source": [
        "from google.colab import drive\n",
        "drive.mount('/content/drive')"
      ],
      "metadata": {
        "id": "rY-g2eEmJa69"
      },
      "execution_count": null,
      "outputs": []
    },
    {
      "cell_type": "markdown",
      "source": [
        "# New Section"
      ],
      "metadata": {
        "id": "6xZSvkeKJeHd"
      }
    },
    {
      "cell_type": "code",
      "source": [
        "def main():\n",
        "  personality = input(\"personality of chatbot:(default: freindly) \")\n",
        "  if(personality==\"\"):\n",
        "    personality = \"friendly and helpful\"\n",
        "  initial_prompt = f\"you are a chatbot with personality: {personality}\"\n",
        "  messages =[{\"role\":\"user\",\"content\": initial_prompt\n",
        "              }]\n",
        "\n",
        "  while True :\n",
        "    try:\n",
        "      input_text =input( \"you: \")\n",
        "      messages.append({\"role\":\"user\",\"content\": input_text})\n",
        "\n",
        "      response= openai.ChatCompletion.create(\n",
        "          model=\"gpt-3.5-turbo\",\n",
        "          messages = messages ,\n",
        "          max_tokens = 16\n",
        "      )\n",
        "\n",
        "      messages.append(response[\"choices\"][0][\"message\"].to_dict())\n",
        "\n",
        "      print(\"Assistant:\", response[\"choices\"][0][\"message\"][\"content\"])\n",
        "    except KeyboardInterrupt:\n",
        "      print(\"exiting...\")\n",
        "      break\n",
        "\n",
        "if __name__ == \"__main__\":\n",
        "  main()"
      ],
      "metadata": {
        "id": "nrhevREtbyF0"
      },
      "execution_count": null,
      "outputs": []
    }
  ]
}